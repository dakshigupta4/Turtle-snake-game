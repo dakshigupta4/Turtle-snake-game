{
 "cells": [
  {
   "cell_type": "code",
   "execution_count": null,
   "metadata": {},
   "outputs": [],
   "source": [
    "from turtle import*\n",
    "color(\"red\")\n",
    "begin_fill()\n",
    "left(50)\n",
    "forward(100)\n",
    "circle(40,180)\n",
    "left(260)\n",
    "circle(40,180)\n",
    "forward(100)\n",
    "end_fill()\n",
    "done()"
   ]
  },
  {
   "cell_type": "code",
   "execution_count": 8,
   "metadata": {},
   "outputs": [],
   "source": [
    "from turtle import*\n",
    "color(\"red\",\"pink\")\n",
    "begin_fill()\n",
    "left(50)\n",
    "forward(100)\n",
    "circle(40,180)\n",
    "left(260)\n",
    "circle(40,180)\n",
    "forward(100)\n",
    "end_fill()\n",
    "done()"
   ]
  },
  {
   "cell_type": "code",
   "execution_count": null,
   "metadata": {},
   "outputs": [],
   "source": []
  }
 ],
 "metadata": {
  "kernelspec": {
   "display_name": "Python 3",
   "language": "python",
   "name": "python3"
  },
  "language_info": {
   "codemirror_mode": {
    "name": "ipython",
    "version": 3
   },
   "file_extension": ".py",
   "mimetype": "text/x-python",
   "name": "python",
   "nbconvert_exporter": "python",
   "pygments_lexer": "ipython3",
   "version": "3.8.3"
  }
 },
 "nbformat": 4,
 "nbformat_minor": 4
}
